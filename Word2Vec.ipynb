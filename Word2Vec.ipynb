{
 "cells": [
  {
   "cell_type": "code",
   "execution_count": 2,
   "id": "2e210ad6-d606-410e-8816-ac70842b63e0",
   "metadata": {},
   "outputs": [
    {
     "name": "stdout",
     "output_type": "stream",
     "text": [
      "Collecting gensim\n",
      "  Obtaining dependency information for gensim from https://files.pythonhosted.org/packages/79/7b/747fcb06280764cf20353361162eff68c6b0a3be34c43ead5ae393d3b18e/gensim-4.3.3-cp312-cp312-win_amd64.whl.metadata\n",
      "  Using cached gensim-4.3.3-cp312-cp312-win_amd64.whl.metadata (8.2 kB)\n",
      "Requirement already satisfied: numpy<2.0,>=1.18.5 in c:\\python312\\lib\\site-packages (from gensim) (1.26.3)\n",
      "Requirement already satisfied: scipy<1.14.0,>=1.7.0 in c:\\python312\\lib\\site-packages (from gensim) (1.12.0)\n",
      "Collecting smart-open>=1.8.1 (from gensim)\n",
      "  Obtaining dependency information for smart-open>=1.8.1 from https://files.pythonhosted.org/packages/7a/18/9a8d9f01957aa1f8bbc5676d54c2e33102d247e146c1a3679d3bd5cc2e3a/smart_open-7.1.0-py3-none-any.whl.metadata\n",
      "  Downloading smart_open-7.1.0-py3-none-any.whl.metadata (24 kB)\n",
      "Requirement already satisfied: wrapt in c:\\python312\\lib\\site-packages (from smart-open>=1.8.1->gensim) (1.16.0)\n",
      "Downloading gensim-4.3.3-cp312-cp312-win_amd64.whl (24.0 MB)\n",
      "   ---------------------------------------- 0.0/24.0 MB ? eta -:--:--\n",
      "   ---------------------------------------- 0.1/24.0 MB 1.1 MB/s eta 0:00:22\n",
      "   - -------------------------------------- 0.7/24.0 MB 7.6 MB/s eta 0:00:04\n",
      "   -- ------------------------------------- 1.7/24.0 MB 12.0 MB/s eta 0:00:02\n",
      "   ---- ----------------------------------- 2.9/24.0 MB 15.4 MB/s eta 0:00:02\n",
      "   ------- -------------------------------- 4.5/24.0 MB 19.3 MB/s eta 0:00:02\n",
      "   ---------- ----------------------------- 6.3/24.0 MB 22.4 MB/s eta 0:00:01\n",
      "   ----------- ---------------------------- 6.6/24.0 MB 20.1 MB/s eta 0:00:01\n",
      "   -------------- ------------------------- 8.8/24.0 MB 23.5 MB/s eta 0:00:01\n",
      "   ------------------ --------------------- 11.3/24.0 MB 32.7 MB/s eta 0:00:01\n",
      "   ----------------------- ---------------- 14.1/24.0 MB 40.9 MB/s eta 0:00:01\n",
      "   ---------------------------- ----------- 17.0/24.0 MB 54.4 MB/s eta 0:00:01\n",
      "   -------------------------------- ------- 19.6/24.0 MB 59.8 MB/s eta 0:00:01\n",
      "   ------------------------------------ --- 22.2/24.0 MB 59.5 MB/s eta 0:00:01\n",
      "   ---------------------------------------  24.0/24.0 MB 59.5 MB/s eta 0:00:01\n",
      "   ---------------------------------------  24.0/24.0 MB 59.5 MB/s eta 0:00:01\n",
      "   ---------------------------------------- 24.0/24.0 MB 40.9 MB/s eta 0:00:00\n",
      "Downloading smart_open-7.1.0-py3-none-any.whl (61 kB)\n",
      "   ---------------------------------------- 0.0/61.7 kB ? eta -:--:--\n",
      "   ---------------------------------------- 61.7/61.7 kB ? eta 0:00:00\n",
      "Installing collected packages: smart-open, gensim\n",
      "Successfully installed gensim-4.3.3 smart-open-7.1.0\n"
     ]
    },
    {
     "name": "stderr",
     "output_type": "stream",
     "text": [
      "WARNING: There was an error checking the latest version of pip.\n"
     ]
    }
   ],
   "source": [
    "!pip install gensim"
   ]
  },
  {
   "cell_type": "markdown",
   "id": "e2db4e12-7f5a-43d3-b8fe-987c5083bd69",
   "metadata": {},
   "source": [
    "## Creating a Word2Vec model using the Reddit News Data"
   ]
  },
  {
   "cell_type": "markdown",
   "id": "c38079de-b0c1-41d6-b36f-a1f6b0510df9",
   "metadata": {},
   "source": [
    "#### Reddit Dataset Link : https://www.kaggle.com/datasets/rootuser/worldnews-on-reddit"
   ]
  },
  {
   "cell_type": "code",
   "execution_count": 3,
   "id": "9d8f5497-f7e3-4e26-952d-7c076292e289",
   "metadata": {},
   "outputs": [],
   "source": [
    "import nltk\n",
    "from gensim.models import Word2Vec, KeyedVectors\n",
    "import pandas as pd"
   ]
  },
  {
   "cell_type": "code",
   "execution_count": 51,
   "id": "81901d51-4fae-40a1-af24-3ade545365b0",
   "metadata": {},
   "outputs": [],
   "source": [
    "# nltk.download(\"punkt\")\n",
    "# nltk.download('punkt_tab')"
   ]
  },
  {
   "cell_type": "code",
   "execution_count": 52,
   "id": "4ff81b05-f115-44d6-9233-081cde548254",
   "metadata": {},
   "outputs": [
    {
     "data": {
      "text/html": [
       "<div>\n",
       "<style scoped>\n",
       "    .dataframe tbody tr th:only-of-type {\n",
       "        vertical-align: middle;\n",
       "    }\n",
       "\n",
       "    .dataframe tbody tr th {\n",
       "        vertical-align: top;\n",
       "    }\n",
       "\n",
       "    .dataframe thead th {\n",
       "        text-align: right;\n",
       "    }\n",
       "</style>\n",
       "<table border=\"1\" class=\"dataframe\">\n",
       "  <thead>\n",
       "    <tr style=\"text-align: right;\">\n",
       "      <th></th>\n",
       "      <th>time_created</th>\n",
       "      <th>date_created</th>\n",
       "      <th>up_votes</th>\n",
       "      <th>down_votes</th>\n",
       "      <th>title</th>\n",
       "      <th>over_18</th>\n",
       "      <th>author</th>\n",
       "      <th>subreddit</th>\n",
       "    </tr>\n",
       "  </thead>\n",
       "  <tbody>\n",
       "    <tr>\n",
       "      <th>0</th>\n",
       "      <td>1201232046</td>\n",
       "      <td>2008-01-25</td>\n",
       "      <td>3</td>\n",
       "      <td>0</td>\n",
       "      <td>Scores killed in Pakistan clashes</td>\n",
       "      <td>False</td>\n",
       "      <td>polar</td>\n",
       "      <td>worldnews</td>\n",
       "    </tr>\n",
       "    <tr>\n",
       "      <th>1</th>\n",
       "      <td>1201232075</td>\n",
       "      <td>2008-01-25</td>\n",
       "      <td>2</td>\n",
       "      <td>0</td>\n",
       "      <td>Japan resumes refuelling mission</td>\n",
       "      <td>False</td>\n",
       "      <td>polar</td>\n",
       "      <td>worldnews</td>\n",
       "    </tr>\n",
       "    <tr>\n",
       "      <th>2</th>\n",
       "      <td>1201232523</td>\n",
       "      <td>2008-01-25</td>\n",
       "      <td>3</td>\n",
       "      <td>0</td>\n",
       "      <td>US presses Egypt on Gaza border</td>\n",
       "      <td>False</td>\n",
       "      <td>polar</td>\n",
       "      <td>worldnews</td>\n",
       "    </tr>\n",
       "    <tr>\n",
       "      <th>3</th>\n",
       "      <td>1201233290</td>\n",
       "      <td>2008-01-25</td>\n",
       "      <td>1</td>\n",
       "      <td>0</td>\n",
       "      <td>Jump-start economy: Give health care to all</td>\n",
       "      <td>False</td>\n",
       "      <td>fadi420</td>\n",
       "      <td>worldnews</td>\n",
       "    </tr>\n",
       "    <tr>\n",
       "      <th>4</th>\n",
       "      <td>1201274720</td>\n",
       "      <td>2008-01-25</td>\n",
       "      <td>4</td>\n",
       "      <td>0</td>\n",
       "      <td>Council of Europe bashes EU&amp;UN terror blacklist</td>\n",
       "      <td>False</td>\n",
       "      <td>mhermans</td>\n",
       "      <td>worldnews</td>\n",
       "    </tr>\n",
       "    <tr>\n",
       "      <th>5</th>\n",
       "      <td>1201287889</td>\n",
       "      <td>2008-01-25</td>\n",
       "      <td>15</td>\n",
       "      <td>0</td>\n",
       "      <td>Hay presto! Farmer unveils the  illegal  mock-...</td>\n",
       "      <td>False</td>\n",
       "      <td>Armagedonovich</td>\n",
       "      <td>worldnews</td>\n",
       "    </tr>\n",
       "    <tr>\n",
       "      <th>6</th>\n",
       "      <td>1201289438</td>\n",
       "      <td>2008-01-25</td>\n",
       "      <td>5</td>\n",
       "      <td>0</td>\n",
       "      <td>Strikes, Protests and Gridlock at the Poland-U...</td>\n",
       "      <td>False</td>\n",
       "      <td>Clythos</td>\n",
       "      <td>worldnews</td>\n",
       "    </tr>\n",
       "    <tr>\n",
       "      <th>7</th>\n",
       "      <td>1201536662</td>\n",
       "      <td>2008-01-28</td>\n",
       "      <td>0</td>\n",
       "      <td>0</td>\n",
       "      <td>The U.N. Mismanagement Program</td>\n",
       "      <td>False</td>\n",
       "      <td>Moldavite</td>\n",
       "      <td>worldnews</td>\n",
       "    </tr>\n",
       "    <tr>\n",
       "      <th>8</th>\n",
       "      <td>1201558396</td>\n",
       "      <td>2008-01-28</td>\n",
       "      <td>4</td>\n",
       "      <td>0</td>\n",
       "      <td>Nicolas Sarkozy threatens to sue Ryanair</td>\n",
       "      <td>False</td>\n",
       "      <td>Moldavite</td>\n",
       "      <td>worldnews</td>\n",
       "    </tr>\n",
       "    <tr>\n",
       "      <th>9</th>\n",
       "      <td>1201635869</td>\n",
       "      <td>2008-01-29</td>\n",
       "      <td>3</td>\n",
       "      <td>0</td>\n",
       "      <td>US plans for missile shields in Polish town me...</td>\n",
       "      <td>False</td>\n",
       "      <td>JoeyRamone63</td>\n",
       "      <td>worldnews</td>\n",
       "    </tr>\n",
       "  </tbody>\n",
       "</table>\n",
       "</div>"
      ],
      "text/plain": [
       "   time_created date_created  up_votes  down_votes  \\\n",
       "0    1201232046   2008-01-25         3           0   \n",
       "1    1201232075   2008-01-25         2           0   \n",
       "2    1201232523   2008-01-25         3           0   \n",
       "3    1201233290   2008-01-25         1           0   \n",
       "4    1201274720   2008-01-25         4           0   \n",
       "5    1201287889   2008-01-25        15           0   \n",
       "6    1201289438   2008-01-25         5           0   \n",
       "7    1201536662   2008-01-28         0           0   \n",
       "8    1201558396   2008-01-28         4           0   \n",
       "9    1201635869   2008-01-29         3           0   \n",
       "\n",
       "                                               title  over_18          author  \\\n",
       "0                  Scores killed in Pakistan clashes    False           polar   \n",
       "1                   Japan resumes refuelling mission    False           polar   \n",
       "2                    US presses Egypt on Gaza border    False           polar   \n",
       "3       Jump-start economy: Give health care to all     False         fadi420   \n",
       "4    Council of Europe bashes EU&UN terror blacklist    False        mhermans   \n",
       "5  Hay presto! Farmer unveils the  illegal  mock-...    False  Armagedonovich   \n",
       "6  Strikes, Protests and Gridlock at the Poland-U...    False         Clythos   \n",
       "7                     The U.N. Mismanagement Program    False       Moldavite   \n",
       "8          Nicolas Sarkozy threatens to sue Ryanair     False       Moldavite   \n",
       "9  US plans for missile shields in Polish town me...    False    JoeyRamone63   \n",
       "\n",
       "   subreddit  \n",
       "0  worldnews  \n",
       "1  worldnews  \n",
       "2  worldnews  \n",
       "3  worldnews  \n",
       "4  worldnews  \n",
       "5  worldnews  \n",
       "6  worldnews  \n",
       "7  worldnews  \n",
       "8  worldnews  \n",
       "9  worldnews  "
      ]
     },
     "execution_count": 52,
     "metadata": {},
     "output_type": "execute_result"
    }
   ],
   "source": [
    "data = pd.read_csv(\"reddit_worldnews_start_to_2016-11-22.csv\")\n",
    "data.head(10)"
   ]
  },
  {
   "cell_type": "code",
   "execution_count": 53,
   "id": "d5bcc53d-505f-4dc4-b98f-db7f0dfcaa0e",
   "metadata": {},
   "outputs": [],
   "source": [
    "HeadLines = data.title.values"
   ]
  },
  {
   "cell_type": "code",
   "execution_count": 54,
   "id": "d22bbbed-b564-4847-a546-6775c8189da6",
   "metadata": {},
   "outputs": [
    {
     "data": {
      "text/plain": [
       "array(['Scores killed in Pakistan clashes',\n",
       "       'Japan resumes refuelling mission',\n",
       "       'US presses Egypt on Gaza border', ...,\n",
       "       'Professor receives Arab Researchers Award',\n",
       "       'Nigel Farage attacks response to Trump ambassador tweet',\n",
       "       'Palestinian wielding knife shot dead in West Bank: Israel police'],\n",
       "      dtype=object)"
      ]
     },
     "execution_count": 54,
     "metadata": {},
     "output_type": "execute_result"
    }
   ],
   "source": [
    "HeadLines"
   ]
  },
  {
   "cell_type": "code",
   "execution_count": 55,
   "id": "ab738b14-d95e-4f4c-85a2-89cdc385b522",
   "metadata": {},
   "outputs": [],
   "source": [
    "from nltk import word_tokenize"
   ]
  },
  {
   "cell_type": "code",
   "execution_count": 56,
   "id": "c21d07d5-9c6b-4a5a-a776-eb5c5a4ca9ca",
   "metadata": {},
   "outputs": [],
   "source": [
    "corpus = [word_tokenize(title) for title in HeadLines]"
   ]
  },
  {
   "cell_type": "code",
   "execution_count": 57,
   "id": "d9405b26-2bfb-4a22-9945-ae03986a56e5",
   "metadata": {},
   "outputs": [],
   "source": [
    "model = Word2Vec(corpus, min_count=1, vector_size=32)"
   ]
  },
  {
   "cell_type": "code",
   "execution_count": 69,
   "id": "31c09726-6961-4d4a-9d7c-20ae8ddb60b5",
   "metadata": {},
   "outputs": [],
   "source": [
    "vector = model.wv['king'] - model.wv['man'] + model.wv['queen']"
   ]
  },
  {
   "cell_type": "code",
   "execution_count": 68,
   "id": "aac155e7-aeb6-4c62-9096-965a4c97c756",
   "metadata": {},
   "outputs": [
    {
     "data": {
      "text/plain": [
       "[('U.S.President', 0.7050285339355469),\n",
       " ('roadie', 0.7035565972328186),\n",
       " ('Rice', 0.6890624761581421),\n",
       " ('Graziano', 0.677766740322113),\n",
       " ('Zhijun', 0.6755585074424744),\n",
       " ('Christine', 0.6737420558929443),\n",
       " ('Sleaze', 0.6708200573921204),\n",
       " ('Pegs', 0.6639593243598938),\n",
       " ('Karoubi', 0.6556626558303833),\n",
       " ('Fringe', 0.6553256511688232)]"
      ]
     },
     "execution_count": 68,
     "metadata": {},
     "output_type": "execute_result"
    }
   ],
   "source": [
    "model.wv.most_similar(vector)"
   ]
  },
  {
   "cell_type": "markdown",
   "id": "d514edef-b8fd-40a7-a1a1-efd102f0d518",
   "metadata": {},
   "source": [
    "## Using a PreBuilt Word2Vec model by Google"
   ]
  },
  {
   "cell_type": "markdown",
   "id": "0c2abd40-5c1f-421d-a9dd-c7a0330939a7",
   "metadata": {},
   "source": [
    "#### Google Word2Vec Model Link :  https://drive.google.com/file/d/0B7XkCwpI5KDYNlNUTTlSS21pQmM/edit?resourcekey=0-wjGZdNAUop6WykTtMip30g"
   ]
  },
  {
   "cell_type": "code",
   "execution_count": 5,
   "id": "adcda383-e42d-42ca-a03c-723eaf0039b1",
   "metadata": {},
   "outputs": [],
   "source": [
    "google_model = KeyedVectors.load_word2vec_format('GoogleNews-vectors-negative300.bin.gz', binary=True, limit=100000)"
   ]
  },
  {
   "cell_type": "code",
   "execution_count": 11,
   "id": "748c8b51-aa24-4d1a-b5ea-525591e783d4",
   "metadata": {},
   "outputs": [],
   "source": [
    "vector = google_model['king'] - google_model['man'] + google_model['queen']"
   ]
  },
  {
   "cell_type": "code",
   "execution_count": 12,
   "id": "364b9ccf-7f59-4250-a95d-491ff0b3f8f9",
   "metadata": {},
   "outputs": [
    {
     "data": {
      "text/plain": [
       "[('queen', 0.8422122001647949),\n",
       " ('king', 0.8070623278617859),\n",
       " ('queens', 0.6293326020240784),\n",
       " ('monarch', 0.6233264207839966),\n",
       " ('kings', 0.599048376083374),\n",
       " ('princess', 0.5685814619064331),\n",
       " ('royal', 0.55137038230896),\n",
       " ('princes', 0.5398682951927185),\n",
       " ('prince', 0.522888720035553),\n",
       " ('Queen', 0.5119319558143616)]"
      ]
     },
     "execution_count": 12,
     "metadata": {},
     "output_type": "execute_result"
    }
   ],
   "source": [
    "google_model.most_similar(vector)"
   ]
  },
  {
   "cell_type": "code",
   "execution_count": null,
   "id": "b96e67fe-529d-412c-99ba-8eec8dcdd0f1",
   "metadata": {},
   "outputs": [],
   "source": []
  }
 ],
 "metadata": {
  "kernelspec": {
   "display_name": "Python 3 (ipykernel)",
   "language": "python",
   "name": "python3"
  },
  "language_info": {
   "codemirror_mode": {
    "name": "ipython",
    "version": 3
   },
   "file_extension": ".py",
   "mimetype": "text/x-python",
   "name": "python",
   "nbconvert_exporter": "python",
   "pygments_lexer": "ipython3",
   "version": "3.12.1"
  }
 },
 "nbformat": 4,
 "nbformat_minor": 5
}
